{
 "cells": [
  {
   "cell_type": "code",
   "execution_count": 1,
   "id": "60bb62ea",
   "metadata": {},
   "outputs": [],
   "source": [
    "import pandas as pd\n",
    "import numpy as np"
   ]
  },
  {
   "cell_type": "code",
   "execution_count": 2,
   "id": "fc057b1f",
   "metadata": {},
   "outputs": [
    {
     "data": {
      "text/html": [
       "<div>\n",
       "<style scoped>\n",
       "    .dataframe tbody tr th:only-of-type {\n",
       "        vertical-align: middle;\n",
       "    }\n",
       "\n",
       "    .dataframe tbody tr th {\n",
       "        vertical-align: top;\n",
       "    }\n",
       "\n",
       "    .dataframe thead th {\n",
       "        text-align: right;\n",
       "    }\n",
       "</style>\n",
       "<table border=\"1\" class=\"dataframe\">\n",
       "  <thead>\n",
       "    <tr style=\"text-align: right;\">\n",
       "      <th></th>\n",
       "      <th>Unnamed: 0</th>\n",
       "      <th>cuisine_SP</th>\n",
       "      <th>aisle_SP</th>\n",
       "      <th>ingredients_SP</th>\n",
       "    </tr>\n",
       "  </thead>\n",
       "  <tbody>\n",
       "    <tr>\n",
       "      <th>0</th>\n",
       "      <td>recipe_title</td>\n",
       "      <td>[]</td>\n",
       "      <td>['Produce', 'Milk, Eggs, Other Dairy', 'Spices...</td>\n",
       "      <td>['cauliflower', 'egg', 'italian seasoning', 'm...</td>\n",
       "    </tr>\n",
       "    <tr>\n",
       "      <th>1</th>\n",
       "      <td>Dreamy Chai Rice Pudding</td>\n",
       "      <td>[]</td>\n",
       "      <td>['Pasta and Rice', 'Milk, Eggs, Other Dairy', ...</td>\n",
       "      <td>['long grain rice', 'whole milk', 'tea', 'cinn...</td>\n",
       "    </tr>\n",
       "    <tr>\n",
       "      <th>2</th>\n",
       "      <td>Instant Pot Chicken Tacos</td>\n",
       "      <td>['Mexican']</td>\n",
       "      <td>['Spices and Seasonings', 'Meat', 'Produce', '...</td>\n",
       "      <td>['black pepper', 'chicken breasts', 'lime juic...</td>\n",
       "    </tr>\n",
       "    <tr>\n",
       "      <th>3</th>\n",
       "      <td>Homemade King Ranch Chicken Casserole</td>\n",
       "      <td>[]</td>\n",
       "      <td>['Milk, Eggs, Other Dairy', 'Meat', 'Canned an...</td>\n",
       "      <td>['butter', 'cooked chicken breasts', 'cream of...</td>\n",
       "    </tr>\n",
       "    <tr>\n",
       "      <th>4</th>\n",
       "      <td>Mangoes with Rum and Ice Cream</td>\n",
       "      <td>[]</td>\n",
       "      <td>['Produce', 'Baking', 'Alcoholic Beverages', '...</td>\n",
       "      <td>['mangoes', 'sugar', 'dark rum', 'lime juice',...</td>\n",
       "    </tr>\n",
       "  </tbody>\n",
       "</table>\n",
       "</div>"
      ],
      "text/plain": [
       "                              Unnamed: 0   cuisine_SP  \\\n",
       "0                           recipe_title           []   \n",
       "1               Dreamy Chai Rice Pudding           []   \n",
       "2              Instant Pot Chicken Tacos  ['Mexican']   \n",
       "3  Homemade King Ranch Chicken Casserole           []   \n",
       "4         Mangoes with Rum and Ice Cream           []   \n",
       "\n",
       "                                            aisle_SP  \\\n",
       "0  ['Produce', 'Milk, Eggs, Other Dairy', 'Spices...   \n",
       "1  ['Pasta and Rice', 'Milk, Eggs, Other Dairy', ...   \n",
       "2  ['Spices and Seasonings', 'Meat', 'Produce', '...   \n",
       "3  ['Milk, Eggs, Other Dairy', 'Meat', 'Canned an...   \n",
       "4  ['Produce', 'Baking', 'Alcoholic Beverages', '...   \n",
       "\n",
       "                                      ingredients_SP  \n",
       "0  ['cauliflower', 'egg', 'italian seasoning', 'm...  \n",
       "1  ['long grain rice', 'whole milk', 'tea', 'cinn...  \n",
       "2  ['black pepper', 'chicken breasts', 'lime juic...  \n",
       "3  ['butter', 'cooked chicken breasts', 'cream of...  \n",
       "4  ['mangoes', 'sugar', 'dark rum', 'lime juice',...  "
      ]
     },
     "execution_count": 2,
     "metadata": {},
     "output_type": "execute_result"
    }
   ],
   "source": [
    "data_df = pd.read_csv('example_dataframe_100_recipes.csv')\n",
    "data_df.head()"
   ]
  },
  {
   "cell_type": "code",
   "execution_count": 3,
   "id": "119958ce",
   "metadata": {},
   "outputs": [
    {
     "data": {
      "text/plain": [
       "101"
      ]
     },
     "execution_count": 3,
     "metadata": {},
     "output_type": "execute_result"
    }
   ],
   "source": [
    "len(data_df)"
   ]
  },
  {
   "cell_type": "code",
   "execution_count": 43,
   "id": "ef70fb76",
   "metadata": {},
   "outputs": [
    {
     "name": "stdout",
     "output_type": "stream",
     "text": [
      "['cauliflower', ' egg', ' italian seasoning', ' monterey jack cheese', ' pepper', ' salt', 'long grain rice', ' whole milk', ' tea', ' cinnamon powder', ' ginger powder', ' pea pods', ' whole star anise', ' cloves', ' vanilla essence', ' brown sugar', 'black pepper', ' chicken breasts', ' lime juice', ' purple onion', ' salsa', ' taco seasoning', 'butter', ' cooked chicken breasts', ' cream of chicken soup', ' cream of mushroom soup', ' diced tomatoes with green chilis', ' flour tortillas', ' jack cheese', ' onion', 'mangoes', ' sugar', ' dark rum', ' lime juice', ' lime rind', ' vanilla ice cream', 'bone in chicken thighs', ' yellow onion', ' garlic cloves', ' fresh thyme', ' scotch bonnet pepper', ' powdered ginger', ' curry powder', ' coconut oil', ' cilantro', ' scallion', ' vegetable oil', ' yellow onion', ' garlic cloves', ' curry powder', ' amchar masala', ' cumin', ' salt', ' water', ' potatoes', 'canned garbanzo beans', ' chili powder', ' coriander', ' cumin', ' flour', ' fresh parsley', ' garlic', ' juice of lemon', ' pita', ' red onion', ' salt and pepper', ' tahini', ' turmeric', ' vegetable oil', ' water', 'butter', ' eggs', ' flour', ' nutmeg', ' pie crust', ' rhubarb', ' salt', 'graham cracker crust', ' juice of lime', ' lime zest', ' sour cream', ' sweetened condensed milk', ' whipped cream', 'brandy', ' butter', ' condensed milk', ' oreo', ' vanilla extract', ' walnuts', 'chorizo', ' cumin seeds', ' dry white wine', ' fresh cilantro', ' garlic clove', ' little neck clams', ' olive oil', ' onion', ' salt', ' yellow bell pepper', 'cream cheese', ' strawberries', ' vanilla extract', ' lemon juice', ' granulated sugar', ' flour', ' unsweetened cocoa powder', ' kosher salt', ' eggs', ' milk', ' water', ' unsalted butter', ' vanilla extract', 'skinless boneless chicken breast', ' chili peppers', ' canola oil', ' buttermilk', ' flour', ' white onion', ' white corn tortillas', ' cheese', ' queso fresco', ' crema', ' salt', ' water', 'black pepper', ' chicken broth', ' evaporated milk', ' flour', ' fresh basil', ' fresh thyme', ' olive oil', ' onion', ' salt', ' splenda', ' tomato paste', ' tomatoes', 'olive oil', ' sage leaves', ' butter', ' shallots', ' pancetta', ' arborio rice', ' dry white wine', ' vegetable stock', ' parmesan cheese', ' butternut squash', 'cow pea', ' rice wine vinegar', ' smooth peanut butter', ' almond butter', ' fresh ginger', ' chipotle pepper in adobo', ' chipotle pepper in adobo', ' soy sauce', ' honey', ' sesame oil', ' canola oil', ' salt and pepper', ' salad mix', ' napa cabbage', ' romaine lettuce', ' carrots', ' snow peas', ' fresh cilantro leaves', ' green onion', ' rotisserie chicken', ' roasted peanuts', ' fresh mint leaves', ' chili oil', ' lime', 'butter', ' diet soda', ' cream of tartar', ' eggs', ' flour', ' oil', ' pecans', ' powdered sugar', ' salt', ' sugar', ' vanilla', 'baby eggplant', ' beefsteak tomatoes', ' bread crumbs', ' eggs', ' juice of lemon', ' olive oil', ' parsley', ' pepper', ' romano cheese', ' salt', 'dried navy beans', ' teriyaki sauce', ' soy sauce', ' pineapple juice', ' brown sugar', ' ginger', ' bacon', ' onion', ' garlic clove', ' pineapple', ' ham steak', 'eggs', ' garlic', ' ground pepper', ' nutmeg', ' olive oil', ' parmesan', ' ricotta cheese', ' salt', ' spinach', ' spinach', 'canned tomatoes', ' cauliflower', ' eggs', ' flour', ' fresh basil', ' garlic', ' garlic powder', ' ground pepper', ' olive oil', ' panko bread crumbs', ' parmesan cheese', ' red pepper flakes', ' salt', ' water', 'butter', ' chocolate', ' graham cracker crumbs', ' peanut butter', ' powdered sugar', 'baking soda', ' butter', ' dulce de leche', ' eggs', ' flour', ' instant espresso powder', ' semisweet chocolate', ' sugar', ' vanilla extract', 'whole milk', ' heavy cream', ' mint leaves', ' granulated sugar', ' egg yolks', ' semi-sweet chocolate', 'white cake mix', ' eggs', ' butter', ' water', ' chocolate chips', 'almond milk', ' baking powder', ' baking soda', ' banana', ' buckwheat flour', ' cinnamon', ' flax seed', ' maple syrup', ' oil', ' plain yogurt', ' rolled oats', ' salt', ' vanilla', 'canned tomato sauce', ' canned tomato sauce', ' dried basil', ' egg', ' extra virgin olive oil', ' fire roasted canned tomatoes', ' fresh parsley', ' garlic', ' ground pepper', ' italian sausage', ' italian seasoning', ' lasagna noodles', ' lean ground beef', ' mozzarella cheese', ' onion', ' parmesan', ' ricotta cheese', ' salt', ' water', 'cherries', ' corn starch', ' cream', ' lemon juice', ' milk', ' salt', ' sugar', 'baking chocolate', ' brown sugar', ' butter', ' cinnamon powder', ' eggs', ' green apple', ' self rising flour', ' semi-sweet chocolate', ' vanilla extract', ' walnut', ' whipping cream', 'hot cocoa mix', ' milk', ' half and half', ' instant espresso', ' marshmallows', ' chocolate syrup', ' whipped cream', ' sprinkles', 'butter', ' granulated sugar', ' brown sugar', ' eggs', ' vanilla', ' flour', ' oatmeal', ' salt', ' baking powder', ' baking soda', ' chocolate chips', ' dark chocolate bar', ' walnuts', 'cinnamon', ' cumin', ' garbanzo beans', ' ground pepper', ' onion', ' roast pork', ' salt', ' water', 'butternut squash', ' parmesan cheese', ' nutmeg', ' salt', ' bell pepper', ' eggs', ' butter', ' flour', ' shallots', ' garlic', ' chicken stock', ' bourbon', ' heavy cream', ' salt and pepper', ' fresh thyme leaves', 'basil leaves', ' bell pepper', ' eggplant', ' garlic clove', ' goat cheese', ' olive oil', ' pecorino romano cheese', ' plum tomatoes', ' salt', ' tomato', ' tomatoes', 'almond milk', ' baking powder', ' bananas', ' cinnamon', ' dried cranberries', ' eggs', ' flaxseeds', ' oats', ' salt', ' vanilla extract', 'olive oil', ' acorn squash', ' brown rice', ' onion', ' garlic', ' lean ground turkey', ' baby bella mushrooms', ' spinach', ' vegeta seasoning', ' bell pepper', ' salt and pepper', ' whole wheat bread crumbs', 'boneless skinless chicken breast fillets', ' lemon', ' parsley', ' fresh rosemary leaves', ' fresh thyme leaves', ' garlic', ' black peppercorns', ' juice of lemon', ' olive oil', 'brussel sprouts', ' salt', ' water', ' salted butter', ' garlic', ' bacon bits', ' salt and pepper', ' lemon juice', 'cookie crumbs', ' cream cheese', ' eggs', ' granulated sugar', ' mix of brownies', ' salt', ' sugar', ' unsalted butter', ' vanilla', 'egg yolks', ' granulated sugar', ' heavy cream', ' kosher salt', ' marshmallows', ' vanilla extract', ' whole milk', 'clear honey', ' cucumber', ' curly leaf lettuce', ' feta cheese', ' fresh mint', ' lemon', ' olive oil', ' bell pepper', ' salt', ' watermelon', 'agave syrup', ' almond milk', ' chia seeds', ' raspberries', ' salt', ' vanilla extract', 'blueberries', ' chia seeds', ' maple syrup', ' water', 'apple', ' crabmeat', ' fresh coriander leaves', ' light mayonnaise', ' pita breads', ' Salt & Pepper', ' watercress', ' yellow bell pepper', 'almond extract', ' blanched almonds', ' egg whites', ' sugar', 'roasted chicken', ' chicken', ' garlic', ' onion', ' cumin', ' sea salt', ' olive oil', ' water', ' salsa verde', ' tomatillos', ' chile', ' chile', ' chiles', ' yellow onion', ' cilantro', ' sea salt', ' filo dough', ' masa flour', ' masa flour', ' sea salt', ' palm oil', ' chicken broth', ' salsa verde', 'baking powder', ' cornstarch', ' cream', ' flour', ' nutella', ' salt', ' strawberries', ' sugar', ' sugar', ' cream', ' vanilla', 'blackberries', ' blueberries', ' lemonade concentrate', ' raspberries', ' strawberries', ' sugar', ' vanilla extract', ' whole milk', 'bacon', ' black pepper', ' eggs', ' lettuce', ' mayo', ' peas', ' red bell pepper', ' sour cream', ' sugar', ' yellow onion', 'buttermilk biscuits', ' canola oil', ' dried parsley flakes', ' garlic powder', ' oregano', ' parmesan cheese', 'dandelion greens', ' fresh basil leaves', ' spinach', ' squash flowers', ' garlic', ' sea salt', ' pine nuts', ' macadamia nuts', ' extra-virgin olive oil', ' juice of lemon', ' nutritional yeast flakes', 'eggs', ' flour', ' lemons', ' milk', ' sugar', ' unsalted butter', 'baking powder', ' garlic', ' olive oil', ' red onion', ' roasted garlic', ' rosemary', ' salt', ' shredded mozzarella', ' skim milk', ' sweet potatoes', ' thyme', ' water', ' whole wheat flour', ' piece of foil', 'almond milk', ' banana', ' chocolate malt powder', ' strawberries', ' vanilla ice cream', ' whipped cream', 'bbq sauce', ' breadcrumbs', ' carrot', ' egg', ' garlic', ' ground turkey', ' milk', ' onion', ' pepper', ' salt', ' shredded cheddar', ' worcestershire', 'almond', ' baking powder', ' butter', ' flour', ' quark', ' safflower oil', ' salt', ' sugar', ' vanilla sugar', ' whole milk', 'carrots', ' celery seed', ' extra virgin olive oil', ' garlic', ' gluten-free flour', ' kombu', ' onions', ' poultry seasoning', ' rice milk', ' rice noodles', ' sea-salt', ' turmeric', ' vegetable broth', ' water', 'apples', ' baking powder', ' brown sugar', ' butter', ' cream cheese', ' eggs', ' flour', ' granulated sugar', ' ground cinnamon', ' pecans', ' salt', ' tart apples', ' vanilla extract', 'coconut butter', ' peanut butter', ' bananas', ' cocoa powder', ' agave nectar', ' vanilla extract', 'cocoa powder', ' cottage cheese', ' eggs', ' maple syrup', ' rolled oats', 'asparagus spears', ' butter', ' cayenne pepper', ' egg yolks', ' eggs', ' english muffins', ' ham', ' lemon juice', ' salt', 'baking powder', ' confectioners sugar', ' eggs', ' flour', ' lemon juice', ' lemon rind', ' sugar', ' unsalted butter', ' vanilla essence', 'almonds', ' maple syrup', ' ground cinnamon', ' vanilla extract', ' dark chocolate', 'broccolini', ' garlic clove', ' olive oil', ' onion', ' quinoa', ' vegetable broth', ' walnuts', 'asparagus', ' all purpose flour', ' eggs', ' salt', ' pepper', ' parsley', ' cheese', ' breadcrumbs', ' vegetable oil', 'water', ' cracked wheat', ' active yeast', ' granulated sugar', ' water', ' butter', ' table salt', ' molasses', ' honey', ' wheat germ', ' milk', ' whole wheat flour', ' flour', ' egg white', 'black pepper', ' cranberry juice', ' curry powder', ' garlic powder', ' ground cumin', ' ketchup', ' orange juice', ' salt', ' soy sauce', ' spare ribs', ' vinegar', ' water', 'bacon', ' garlic', ' gorgonzola', ' grape tomatoes', ' grapeseed oil', ' green cabbage', ' juice of lemon', ' plain greek yogurt', ' salt and pepper', ' scallions', ' scallions', 'baking powder', ' chocolate chips', ' cinnamon', ' egg', ' flour', ' oil', ' orange juice', ' salt', ' sugar', ' sugar', ' yams', 'almond milk', ' avocado', ' baby spinach', ' banana', ' honey', ' mango', 'bacon', ' cream cheese', ' eggs', ' fresh parsley', ' goat cheese', ' olive oil', ' polenta', ' Salt & Pepper', 'black pepper', ' butter', ' celery', ' celery seed', ' chicken broth', ' flour', ' garlic powder', ' green beans', ' italian seasoning', ' milk', ' onion', ' onion powder', ' peas and carrots', ' pie crusts', ' salt', ' turkey', ' white pepper', 'eggs', ' milk', ' sugar', ' cinnamon powder', ' bread', ' nutella', ' butter', ' powdered sugar', 'butter', ' chicken breasts', ' chilli powder', ' curry paste', ' garlic cloves', ' ginger powder', ' ice cubes', ' onions', ' potatoes', ' water', ' yoghurt', 'lb cake', ' potato starch', ' rice flour', ' sorghum flour', ' tapioca starch', ' baking soda', ' kosher salt', ' cane sugar', ' soy buttery spread', ' light brown sugar', ' eggs', ' vanilla extract', ' bananas', ' vegan sour cream', ' chocolate chips', ' creamy peanut butter', ' powdered sugar', ' soy buttery spread', ' vanilla extract', ' chocolate chips', 'canned corn', ' chives', ' dill', ' eggs', ' garlic cloves', ' garlic powder', ' ground coriander', ' ground pepper', ' low fat sour cream', ' mushrooms', ' oil', ' onion', ' parsley', ' sea salt', ' sea salt', ' sweet paprika', ' water', ' white wine', ' whole wheat flour', 'brown rice flour', ' brown sugar', ' carrot', ' cayenne', ' coconut milk', ' daikon radish', ' egg', ' enoki mushrooms', ' fresh basil leaves', ' fresh ginger', ' fresh mint leaves', ' fresh parsley', ' garlic', ' green chili', ' green chilies', ' green onions', ' juice of lime', ' mung bean sprouts', ' red chilies', ' rice vinegar', ' sea salt', ' sesame oil', ' sesame oil', ' snow peas', ' tamari soy sauce', ' turmeric', 'brown sugar', ' chicken stock', ' ginger', ' liquid smoke', ' peanut oil', ' rice', ' salmon', ' salt and pepper', ' soy sauce', 'butter', ' corn syrup', ' eggs', ' pecans', ' pie shell', ' sugar', 'baking powder', ' eggs', ' flour', ' milk', ' powdered sugar', ' salt', ' sugar', ' sugar', ' unsalted butter', ' water', 'bay leaf', ' fresh rosemary', ' garlic', ' olive oil', ' onion', ' salt', ' water', ' white beans', 'water', ' green tea bags', ' berries', ' pineapple juice', ' vanilla yogurt', ' ice cubes', 'baking potatoes', ' olive oil', ' red onion', ' tomato', ' garlic', ' fresh basil', ' mozzarella cheese', ' cup cake', ' butter', ' olive oil', ' sea-salt', 'apple cider vinegar', ' asparagus', ' balsamic vinegar', ' dried dill', ' garlic', ' grapeseed oil', ' herbs de provence', ' honey', ' juice of lemon', ' lemon zest', ' salmon fillet', ' salt and pepper', ' vegetable stock', 'butter', ' egg yolks', ' flour', ' granulated sugar', ' kosher salt', ' lemon curd', ' lemon juice', ' lemon zest', 'all purpose flour', ' black pepper', ' breadcrumbs', ' chicken breast', ' chili powder', ' eggs', ' garlic clove', ' ginger powder', ' ice cubes', ' oil', ' salt', 'egg', ' milk', ' yellow cornmeal', ' chile powder', ' cayenne', ' smoked paprika', ' granulated garlic', ' catfish filets', ' olive oil', ' sea salt', ' bell pepper', ' light mayonnaise', ' dill pickle', ' jalapeno chile', ' scallion', ' dill pickle juice', ' lemon juice', 'shallot', ' yellow onion', ' mushrooms', ' dried apricots', ' raisins', ' dried cranberries', ' flat leaf parsley leaves', ' pork tenderloin', ' marsala', ' port', ' butter', ' heavy cream', ' olive oil', ' salt and pepper', 'mayonnaise', ' capers', ' horseradish', ' dijon mustard', ' shallot', ' parsley', ' cod fillets', ' bay leaves', ' milk', ' water', ' potatoes', ' salt', ' lemon zest', ' fresh parsley', ' chives', ' pepper', ' flour', ' egg', ' breadcrumbs', ' sunflower oil', ' lemon wedges', 'chicken breasts', ' colby jack', ' cream of chicken soup', ' cream of mushroom soup', ' onion', ' rice', ' salsa', ' shredded cheddar cheese', 'cucumbers', ' feta cheese', ' kalamata olives', ' roma tomatoes', ' oil packed sun dried tomatoes', ' red onion', ' rice vinegar', ' seasoning', 'silken tofu', ' bananas', ' chocolate', ' mixed peel', ' maple syrup', ' pie crust', 'whipping cream', ' nutella', ' water', ' instant espresso', ' kahlua', ' chocolate cookies', ' chocolate', 'cream cheese', ' dry yeast', ' eggs', ' flour', ' honey', ' lemon zest', ' milk', ' olive oil', ' rosemary', ' salt', ' walnuts', 'all purpose flour', ' baking powder', ' butter', ' coconut milk', ' egg', ' oil', ' salt', ' sugar', ' vanilla', 'baking powder', ' butter', ' caviar', ' egg', ' flour', ' milk', ' sour cream', ' sugar', 'granny smith apples', ' cranberries', ' sugar', ' unsalted butter', ' oats', ' light brown sugar', ' flour', ' unsalted butter', 'almond extract', ' blueberry jam', ' cream cheese', ' crescent rolls', ' egg', ' flour', ' milk', ' sea salt', ' sugar', ' turbinado sugar', 'baking powder', ' butter', ' eggs', ' flour', ' salt', ' sugar', ' sugar', ' vanilla extract', ' whole milk', 'dark chocolate', ' egg whites', ' egg yolks', ' ladyfingers', 'cauliflower', ' egg', ' italian seasoning', ' monterey jack cheese', ' pepper', ' salt']\n"
     ]
    }
   ],
   "source": [
    "total_ingredient_list = []\n",
    "row_list = []\n",
    "for row in data_df['ingredients_SP']:\n",
    "    row = row.replace(\"[\", '')\n",
    "    row = row.replace(\"'\", '')\n",
    "    row = row.replace(\"]\", '')\n",
    "    row = row.replace('\"', '')\n",
    "    row_list = str.split(row, ',')\n",
    "    for element in row_list:\n",
    "        total_ingredient_list.append(element)\n",
    "print(total_ingredient_list)"
   ]
  },
  {
   "cell_type": "code",
   "execution_count": 44,
   "id": "efc5f4fa",
   "metadata": {},
   "outputs": [],
   "source": [
    "total_ingredients_df = pd.DataFrame(total_ingredient_list)"
   ]
  },
  {
   "cell_type": "code",
   "execution_count": 45,
   "id": "befe8b42",
   "metadata": {},
   "outputs": [],
   "source": [
    "total_ingredient_df = total_ingredients_df.rename(columns = {0:  'ingredient'})"
   ]
  },
  {
   "cell_type": "code",
   "execution_count": 52,
   "id": "2b5f719d",
   "metadata": {},
   "outputs": [],
   "source": [
    "total_ingredient_df['count'] = 1"
   ]
  },
  {
   "cell_type": "code",
   "execution_count": 53,
   "id": "d33ff030",
   "metadata": {
    "scrolled": true
   },
   "outputs": [
    {
     "data": {
      "text/html": [
       "<div>\n",
       "<style scoped>\n",
       "    .dataframe tbody tr th:only-of-type {\n",
       "        vertical-align: middle;\n",
       "    }\n",
       "\n",
       "    .dataframe tbody tr th {\n",
       "        vertical-align: top;\n",
       "    }\n",
       "\n",
       "    .dataframe thead th {\n",
       "        text-align: right;\n",
       "    }\n",
       "</style>\n",
       "<table border=\"1\" class=\"dataframe\">\n",
       "  <thead>\n",
       "    <tr style=\"text-align: right;\">\n",
       "      <th></th>\n",
       "      <th>ingredient</th>\n",
       "      <th>count</th>\n",
       "    </tr>\n",
       "  </thead>\n",
       "  <tbody>\n",
       "    <tr>\n",
       "      <th>0</th>\n",
       "      <td>cauliflower</td>\n",
       "      <td>1</td>\n",
       "    </tr>\n",
       "    <tr>\n",
       "      <th>1</th>\n",
       "      <td>egg</td>\n",
       "      <td>1</td>\n",
       "    </tr>\n",
       "    <tr>\n",
       "      <th>2</th>\n",
       "      <td>italian seasoning</td>\n",
       "      <td>1</td>\n",
       "    </tr>\n",
       "    <tr>\n",
       "      <th>3</th>\n",
       "      <td>monterey jack cheese</td>\n",
       "      <td>1</td>\n",
       "    </tr>\n",
       "    <tr>\n",
       "      <th>4</th>\n",
       "      <td>pepper</td>\n",
       "      <td>1</td>\n",
       "    </tr>\n",
       "    <tr>\n",
       "      <th>...</th>\n",
       "      <td>...</td>\n",
       "      <td>...</td>\n",
       "    </tr>\n",
       "    <tr>\n",
       "      <th>1023</th>\n",
       "      <td>egg</td>\n",
       "      <td>1</td>\n",
       "    </tr>\n",
       "    <tr>\n",
       "      <th>1024</th>\n",
       "      <td>italian seasoning</td>\n",
       "      <td>1</td>\n",
       "    </tr>\n",
       "    <tr>\n",
       "      <th>1025</th>\n",
       "      <td>monterey jack cheese</td>\n",
       "      <td>1</td>\n",
       "    </tr>\n",
       "    <tr>\n",
       "      <th>1026</th>\n",
       "      <td>pepper</td>\n",
       "      <td>1</td>\n",
       "    </tr>\n",
       "    <tr>\n",
       "      <th>1027</th>\n",
       "      <td>salt</td>\n",
       "      <td>1</td>\n",
       "    </tr>\n",
       "  </tbody>\n",
       "</table>\n",
       "<p>1028 rows × 2 columns</p>\n",
       "</div>"
      ],
      "text/plain": [
       "                 ingredient  count\n",
       "0               cauliflower      1\n",
       "1                       egg      1\n",
       "2         italian seasoning      1\n",
       "3      monterey jack cheese      1\n",
       "4                    pepper      1\n",
       "...                     ...    ...\n",
       "1023                    egg      1\n",
       "1024      italian seasoning      1\n",
       "1025   monterey jack cheese      1\n",
       "1026                 pepper      1\n",
       "1027                   salt      1\n",
       "\n",
       "[1028 rows x 2 columns]"
      ]
     },
     "execution_count": 53,
     "metadata": {},
     "output_type": "execute_result"
    }
   ],
   "source": [
    "total_ingredient_df"
   ]
  },
  {
   "cell_type": "code",
   "execution_count": 54,
   "id": "f7854619",
   "metadata": {},
   "outputs": [],
   "source": [
    "total_ingredient_counts = total_ingredient_df.groupby(['ingredient']).agg({'count': 'count'})"
   ]
  },
  {
   "cell_type": "code",
   "execution_count": 55,
   "id": "de43a2ae",
   "metadata": {},
   "outputs": [
    {
     "data": {
      "text/html": [
       "<div>\n",
       "<style scoped>\n",
       "    .dataframe tbody tr th:only-of-type {\n",
       "        vertical-align: middle;\n",
       "    }\n",
       "\n",
       "    .dataframe tbody tr th {\n",
       "        vertical-align: top;\n",
       "    }\n",
       "\n",
       "    .dataframe thead th {\n",
       "        text-align: right;\n",
       "    }\n",
       "</style>\n",
       "<table border=\"1\" class=\"dataframe\">\n",
       "  <thead>\n",
       "    <tr style=\"text-align: right;\">\n",
       "      <th></th>\n",
       "      <th>ingredient</th>\n",
       "      <th>count</th>\n",
       "    </tr>\n",
       "  </thead>\n",
       "  <tbody>\n",
       "    <tr>\n",
       "      <th>0</th>\n",
       "      <td>Salt &amp; Pepper</td>\n",
       "      <td>2</td>\n",
       "    </tr>\n",
       "    <tr>\n",
       "      <th>1</th>\n",
       "      <td>acorn squash</td>\n",
       "      <td>1</td>\n",
       "    </tr>\n",
       "    <tr>\n",
       "      <th>2</th>\n",
       "      <td>active yeast</td>\n",
       "      <td>1</td>\n",
       "    </tr>\n",
       "    <tr>\n",
       "      <th>3</th>\n",
       "      <td>agave nectar</td>\n",
       "      <td>1</td>\n",
       "    </tr>\n",
       "    <tr>\n",
       "      <th>4</th>\n",
       "      <td>all purpose flour</td>\n",
       "      <td>1</td>\n",
       "    </tr>\n",
       "    <tr>\n",
       "      <th>...</th>\n",
       "      <td>...</td>\n",
       "      <td>...</td>\n",
       "    </tr>\n",
       "    <tr>\n",
       "      <th>486</th>\n",
       "      <td>skinless boneless chicken breast</td>\n",
       "      <td>1</td>\n",
       "    </tr>\n",
       "    <tr>\n",
       "      <th>487</th>\n",
       "      <td>water</td>\n",
       "      <td>2</td>\n",
       "    </tr>\n",
       "    <tr>\n",
       "      <th>488</th>\n",
       "      <td>whipping cream</td>\n",
       "      <td>1</td>\n",
       "    </tr>\n",
       "    <tr>\n",
       "      <th>489</th>\n",
       "      <td>white cake mix</td>\n",
       "      <td>1</td>\n",
       "    </tr>\n",
       "    <tr>\n",
       "      <th>490</th>\n",
       "      <td>whole milk</td>\n",
       "      <td>1</td>\n",
       "    </tr>\n",
       "  </tbody>\n",
       "</table>\n",
       "<p>491 rows × 2 columns</p>\n",
       "</div>"
      ],
      "text/plain": [
       "                           ingredient  count\n",
       "0                       Salt & Pepper      2\n",
       "1                        acorn squash      1\n",
       "2                        active yeast      1\n",
       "3                        agave nectar      1\n",
       "4                   all purpose flour      1\n",
       "..                                ...    ...\n",
       "486  skinless boneless chicken breast      1\n",
       "487                             water      2\n",
       "488                    whipping cream      1\n",
       "489                    white cake mix      1\n",
       "490                        whole milk      1\n",
       "\n",
       "[491 rows x 2 columns]"
      ]
     },
     "execution_count": 55,
     "metadata": {},
     "output_type": "execute_result"
    }
   ],
   "source": [
    "total_ingredient_counts.reset_index()"
   ]
  },
  {
   "cell_type": "code",
   "execution_count": null,
   "id": "172e5453",
   "metadata": {},
   "outputs": [],
   "source": []
  },
  {
   "cell_type": "code",
   "execution_count": null,
   "id": "76bd5834",
   "metadata": {
    "collapsed": true
   },
   "outputs": [],
   "source": []
  }
 ],
 "metadata": {
  "kernelspec": {
   "display_name": "mlenv",
   "language": "python",
   "name": "mlenv"
  },
  "language_info": {
   "codemirror_mode": {
    "name": "ipython",
    "version": 3
   },
   "file_extension": ".py",
   "mimetype": "text/x-python",
   "name": "python",
   "nbconvert_exporter": "python",
   "pygments_lexer": "ipython3",
   "version": "3.7.10"
  }
 },
 "nbformat": 4,
 "nbformat_minor": 5
}
