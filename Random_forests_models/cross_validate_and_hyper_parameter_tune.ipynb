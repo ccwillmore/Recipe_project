{
 "cells": [
  {
   "cell_type": "code",
   "execution_count": 149,
   "id": "b6bcea3c",
   "metadata": {},
   "outputs": [],
   "source": [
    "import pandas as pd\n",
    "import numpy as np\n",
    "from sklearn.model_selection import train_test_split\n",
    "from sklearn.ensemble import RandomForestClassifier\n",
    "from sklearn.metrics import confusion_matrix, accuracy_score, classification_report, roc_auc_score, roc_curve\n",
    "from sklearn.preprocessing import label_binarize\n",
    "import matplotlib.pyplot as plt"
   ]
  },
  {
   "cell_type": "code",
   "execution_count": 296,
   "id": "3ba6f3a9",
   "metadata": {},
   "outputs": [],
   "source": [
    "def cross_validate(data_df, response_column, num_cv_runs):\n",
    "    colors = []\n",
    "    colors = ['black','silver','lightcoral','red','darkorange','gold','olivedrab','lawngreen','darkgreen','aquamarine','teal',\n",
    "              'cyan','dodgerblue','violet','fuchsia']\n",
    "    confusion = []\n",
    "    confusion_results = []\n",
    "    X_raw = data_df.drop(columns = [response_column, 'recipe_code'])\n",
    "    y_raw = data_df[response_column].values.reshape(-1,1)\n",
    "    classes_list = [0,1,2,3,4,5,6,7,8,9,10,11,12,13,14]\n",
    "#     y_binarized = LabelBinarizer().fit_transform(y=y_raw)\n",
    "#    \n",
    "#     print(y_binarized)\n",
    "    for i in range(1,num_cv_runs):\n",
    "        X_train, X_test, y_train, y_test = train_test_split(X_raw, y_raw,random_state = 10*i)\n",
    "        rf_model = RandomForestClassifier(n_estimators=200, max_depth=5, random_state = 10*i)\n",
    "        rf_model.fit(X_train, np.ravel(y_train))\n",
    "        y_score = rf_model.predict_proba(X_test)\n",
    "        y_test_bin = label_binarize(y_test, classes = classes_list)\n",
    "        n_classes = y_test_bin.shape[1]\n",
    "        \n",
    "        fpr = dict()\n",
    "        tpr = dict()\n",
    "        roc_auc = dict()\n",
    "        local_roc_auc = []\n",
    "        for index in range(n_classes):\n",
    "            fpr[index], tpr[index], thresholds = roc_curve(y_test_bin[:,index], y_score[:, index])\n",
    "            local_roc_auc.append(roc_auc_score(y_test_bin[:,index], y_score[:, index]))\n",
    "            \n",
    "        roc_auc[i] = local_roc_auc   \n",
    "        for item in roc_auc.values():\n",
    "            plt.plot(classes_list, item, color=colors[index], lw=2)\n",
    "#             plt.plot(fpr[index], tpr[index], color=colors[index], lw=2,label=f'class: {index}')\n",
    "#             print('AUC for Class {}: {}'.format(index+1, roc_auc_score(fpr[index], tpr[index])))\n",
    "    plt.xlim([0.0, 15.0])\n",
    "    plt.ylim([0.0, 1.05])\n",
    "    plt.xlabel('class')\n",
    "    plt.ylabel('roc_auc')\n",
    "    plt.title('Area Under Receiver Operating Characteristic Curves')\n",
    "    plt.show()\n",
    "    \n",
    "    \n",
    "    return roc_auc"
   ]
  },
  {
   "cell_type": "code",
   "execution_count": 297,
   "id": "edb87b3e",
   "metadata": {},
   "outputs": [],
   "source": [
    "# recipe_df = pd.read_csv('fully_encoded_recipes_with_cuisine_from_SP.csv')\n",
    "# recipe_df"
   ]
  },
  {
   "cell_type": "code",
   "execution_count": 299,
   "id": "2b159a94",
   "metadata": {},
   "outputs": [
    {
     "data": {
      "image/png": "[encoded data removed]",
      "text/plain": [
       "<Figure size 432x288 with 1 Axes>"
      ]
     },
     "metadata": {
      "needs_background": "light"
     },
     "output_type": "display_data"
    },
    {
     "name": "stdout",
     "output_type": "stream",
     "text": [
      "{20: [1.0, 0.8892823548940407, 0.9622356495468277, 0.950885208452313, 0.9824175824175824, 0.9259205036234536, 0.9902443609022556, 0.9998095479939055, 0.9972826086956521, 1.0, 0.9694991314418065, 0.9618589013756245, 0.9584844316618732, 0.9246759866025921, 0.9863945578231292]}\n"
     ]
    }
   ],
   "source": [
    "roc_auc_to_plot = dict()\n",
    "roc_auc_to_plot = cross_validate(recipe_df, 'cuisine_SP', 21)\n",
    "print(roc_auc_to_plot)"
   ]
  },
  {
   "cell_type": "code",
   "execution_count": 142,
   "id": "6452d645",
   "metadata": {},
   "outputs": [
    {
     "data": {
      "text/plain": [
       "array([[0.01019768, 0.1511241 , 0.0804527 , ..., 0.00784872, 0.06999556,\n",
       "        0.00604796],\n",
       "       [0.01009462, 0.17742597, 0.07715209, ..., 0.01302204, 0.09463825,\n",
       "        0.00708836],\n",
       "       [0.00281226, 0.32533395, 0.05390438, ..., 0.01597318, 0.18181164,\n",
       "        0.00499601],\n",
       "       ...,\n",
       "       [0.00328212, 0.31917129, 0.0568868 , ..., 0.0160984 , 0.17843699,\n",
       "        0.00578449],\n",
       "       [0.00754941, 0.22956359, 0.08819612, ..., 0.01938484, 0.1224237 ,\n",
       "        0.00643095],\n",
       "       [0.00531638, 0.23461597, 0.09738904, ..., 0.01416325, 0.13209438,\n",
       "        0.00686116]])"
      ]
     },
     "execution_count": 142,
     "metadata": {},
     "output_type": "execute_result"
    }
   ],
   "source": [
    "CV_confusion_results"
   ]
  },
  {
   "cell_type": "code",
   "execution_count": null,
   "id": "c443a1d7",
   "metadata": {},
   "outputs": [],
   "source": []
  }
 ],
 "metadata": {
  "kernelspec": {
   "display_name": "mlenv",
   "language": "python",
   "name": "mlenv"
  },
  "language_info": {
   "codemirror_mode": {
    "name": "ipython",
    "version": 3
   },
   "file_extension": ".py",
   "mimetype": "text/x-python",
   "name": "python",
   "nbconvert_exporter": "python",
   "pygments_lexer": "ipython3",
   "version": "3.7.10"
  }
 },
 "nbformat": 4,
 "nbformat_minor": 5
}
